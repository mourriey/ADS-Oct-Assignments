{
 "cells": [
  {
   "cell_type": "markdown",
   "id": "afc857f1-64b0-47d5-ac0d-71d16559b79a",
   "metadata": {},
   "source": [
    "### Task 1"
   ]
  },
  {
   "cell_type": "code",
   "execution_count": 52,
   "id": "4ef2d7d0-ca05-4222-a104-237b3e4af072",
   "metadata": {},
   "outputs": [
    {
     "data": {
      "text/plain": [
       "30"
      ]
     },
     "execution_count": 52,
     "metadata": {},
     "output_type": "execute_result"
    }
   ],
   "source": [
    "def multiply(x,y):\n",
    "    return x*y\n",
    "multiply(5,6)"
   ]
  },
  {
   "cell_type": "markdown",
   "id": "3e0499bc-9302-4e66-a588-f221ebefb6ea",
   "metadata": {},
   "source": [
    "### Task 2"
   ]
  },
  {
   "cell_type": "code",
   "execution_count": 54,
   "id": "a4695eed-7edd-4ac7-b775-a9d5dc34b4c3",
   "metadata": {},
   "outputs": [
    {
     "name": "stdout",
     "output_type": "stream",
     "text": [
      "My name is Albertina, I'm 40 years old\n"
     ]
    }
   ],
   "source": [
    "def describe_person(name,age):\n",
    "    print(f\"My name is {name}, I'm {age} years old\")\n",
    "describe_person(\"Albertina\", 40)"
   ]
  },
  {
   "cell_type": "markdown",
   "id": "5cd385a7-d181-4c89-8a60-c48e5afdb027",
   "metadata": {},
   "source": [
    "### Task 3"
   ]
  },
  {
   "cell_type": "code",
   "execution_count": 58,
   "id": "b0c9affb-95bb-43e2-a6a9-76bff1463aba",
   "metadata": {},
   "outputs": [
    {
     "data": {
      "text/plain": [
       "100.0"
      ]
     },
     "execution_count": 58,
     "metadata": {},
     "output_type": "execute_result"
    }
   ],
   "source": [
    "def calculate_area(base, height):\n",
    "    return (base*height)/2\n",
    "calculate_area(4, 50)"
   ]
  },
  {
   "cell_type": "markdown",
   "id": "7774430c-d4d6-4c80-a5ea-692abb9b3295",
   "metadata": {},
   "source": [
    "### Task 4"
   ]
  },
  {
   "cell_type": "code",
   "execution_count": 60,
   "id": "41c869a0-c015-47cf-a426-c595fcf16c0a",
   "metadata": {},
   "outputs": [
    {
     "data": {
      "text/plain": [
       "3.0"
      ]
     },
     "execution_count": 60,
     "metadata": {},
     "output_type": "execute_result"
    }
   ],
   "source": [
    "import math\n",
    "num = math.sqrt(9)\n",
    "num"
   ]
  },
  {
   "cell_type": "markdown",
   "id": "5dcb965a-2d9b-4ff6-b2aa-eea7645a664d",
   "metadata": {},
   "source": [
    "### Task 5"
   ]
  },
  {
   "cell_type": "code",
   "execution_count": 100,
   "id": "558b075f-9a22-46ef-bb36-6e687ff96007",
   "metadata": {},
   "outputs": [
    {
     "data": {
      "text/plain": [
       "4"
      ]
     },
     "execution_count": 100,
     "metadata": {},
     "output_type": "execute_result"
    }
   ],
   "source": [
    "import random\n",
    "def roll_dice(sides):\n",
    "    return random.randint(1, sides)\n",
    "roll_dice(6)"
   ]
  }
 ],
 "metadata": {
  "kernelspec": {
   "display_name": "Python 3 (ipykernel)",
   "language": "python",
   "name": "python3"
  },
  "language_info": {
   "codemirror_mode": {
    "name": "ipython",
    "version": 3
   },
   "file_extension": ".py",
   "mimetype": "text/x-python",
   "name": "python",
   "nbconvert_exporter": "python",
   "pygments_lexer": "ipython3",
   "version": "3.12.4"
  }
 },
 "nbformat": 4,
 "nbformat_minor": 5
}
