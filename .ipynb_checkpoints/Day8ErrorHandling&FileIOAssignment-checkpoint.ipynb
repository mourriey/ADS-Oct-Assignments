{
 "cells": [
  {
   "cell_type": "markdown",
   "id": "d136799f-38aa-4298-b760-4e0fe116d610",
   "metadata": {},
   "source": [
    "### Task 1 done"
   ]
  },
  {
   "cell_type": "markdown",
   "id": "c81e2963-18ce-4108-bc81-7bb2f5b4bf93",
   "metadata": {},
   "source": [
    "### Task 2"
   ]
  },
  {
   "cell_type": "code",
   "execution_count": null,
   "id": "74d9a84b-87b6-477d-9a71-7abebde87581",
   "metadata": {},
   "outputs": [],
   "source": [
    "try:\n",
    "  num1 = int(input(\"Please enter your first number\"))\n",
    "  num2 = int(input(\"Please enter a second number\"))\n",
    "  num3 = num1/num2\n",
    "  print(num3)\n",
    "except ZeroDivisionError: \n",
    "  print(\"division by zero\")\n",
    "finally:\n",
    "  print(\"the process is completed\")"
   ]
  },
  {
   "cell_type": "markdown",
   "id": "c6620b76-aab7-4d3c-93e0-66735e32c9e7",
   "metadata": {},
   "source": [
    "### Task 3"
   ]
  },
  {
   "cell_type": "code",
   "execution_count": 27,
   "id": "005f327f-3682-4dd0-85f3-d1a8290abc25",
   "metadata": {},
   "outputs": [
    {
     "name": "stdout",
     "output_type": "stream",
     "text": [
      "8.0\n",
      "done\n"
     ]
    }
   ],
   "source": [
    "import math\n",
    "\n",
    "def positive_square_root(num):\n",
    "    if num < 0:\n",
    "        raise ValueError(\"That's not a positive number.\")\n",
    "    return math.sqrt(num)\n",
    "try:\n",
    "    print(positive_square_root(64))\n",
    "except ValueError:\n",
    "    print(\"error occurred\")\n",
    "finally: \n",
    "    print(\"done\")\n"
   ]
  },
  {
   "cell_type": "markdown",
   "id": "67c06aa9-f5ac-417f-ba78-cef7870502e2",
   "metadata": {},
   "source": [
    "### Task 4\n"
   ]
  },
  {
   "cell_type": "code",
   "execution_count": 91,
   "id": "33f2b6e4-a5d7-43f0-9f9a-258a8d7572ba",
   "metadata": {},
   "outputs": [
    {
     "name": "stdout",
     "output_type": "stream",
     "text": [
      "Hello there\n"
     ]
    }
   ],
   "source": [
    "file = open(\"sample.txt\", \"r\")\n",
    "print(file.read())"
   ]
  },
  {
   "cell_type": "code",
   "execution_count": 93,
   "id": "98fc9e4f-bdfd-437d-8dc9-56660d8f900a",
   "metadata": {},
   "outputs": [],
   "source": [
    "with open(\"sample.txt\", \"a\") as file:\n",
    "    file.write(\"\\nThis is a new line.\")"
   ]
  },
  {
   "cell_type": "code",
   "execution_count": 95,
   "id": "83663bbc-b86d-47ed-8431-9e5e9c75328c",
   "metadata": {},
   "outputs": [
    {
     "name": "stdout",
     "output_type": "stream",
     "text": [
      "Hello there\n",
      "This is a new line.\n"
     ]
    }
   ],
   "source": [
    "file = open(\"sample.txt\", \"r\")\n",
    "print(file.read())"
   ]
  },
  {
   "cell_type": "code",
   "execution_count": 97,
   "id": "480591d2-f522-421c-baef-de940cb10c4b",
   "metadata": {},
   "outputs": [
    {
     "name": "stdout",
     "output_type": "stream",
     "text": [
      "Updated content:\n",
      " Hello there\n",
      "This is a new line.\n"
     ]
    }
   ],
   "source": [
    "with open(\"sample.txt\", \"r\") as file:\n",
    "    updated_content = file.read()\n",
    "print(\"Updated content:\\n\", updated_content)"
   ]
  },
  {
   "cell_type": "code",
   "execution_count": 99,
   "id": "6faac6b7-f8b4-4a44-9ab2-ce3129874e76",
   "metadata": {},
   "outputs": [],
   "source": [
    "file.close()"
   ]
  },
  {
   "cell_type": "code",
   "execution_count": 103,
   "id": "08933d9c-2e60-4287-97e6-c6f4df8f2059",
   "metadata": {},
   "outputs": [
    {
     "data": {
      "text/plain": [
       "True"
      ]
     },
     "execution_count": 103,
     "metadata": {},
     "output_type": "execute_result"
    }
   ],
   "source": [
    "file.closed"
   ]
  },
  {
   "cell_type": "code",
   "execution_count": null,
   "id": "f8ae7ce7-b585-4383-8a58-a8e75c40e1a8",
   "metadata": {},
   "outputs": [],
   "source": []
  }
 ],
 "metadata": {
  "kernelspec": {
   "display_name": "Python 3 (ipykernel)",
   "language": "python",
   "name": "python3"
  },
  "language_info": {
   "codemirror_mode": {
    "name": "ipython",
    "version": 3
   },
   "file_extension": ".py",
   "mimetype": "text/x-python",
   "name": "python",
   "nbconvert_exporter": "python",
   "pygments_lexer": "ipython3",
   "version": "3.12.4"
  }
 },
 "nbformat": 4,
 "nbformat_minor": 5
}
