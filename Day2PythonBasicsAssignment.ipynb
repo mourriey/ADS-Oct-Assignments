{
 "cells": [
  {
   "cell_type": "code",
   "execution_count": 6,
   "id": "61b78d11-8448-46fc-92ea-48282a4de069",
   "metadata": {},
   "outputs": [
    {
     "name": "stdout",
     "output_type": "stream",
     "text": [
      "My name is:  Morie Type :  <class 'str'>\n",
      "My age is:  40 Type :  <class 'int'>\n",
      "My weight is:  63.2 Type :  <class 'float'>\n",
      "I am Mosotho:  True Type :  <class 'bool'>\n",
      "11.1\n",
      "8.9\n",
      "40\n",
      "5.0\n",
      "2\n",
      "2\n",
      "False\n",
      "True\n",
      "True\n",
      "False\n",
      "True\n",
      "False\n",
      "False\n",
      "True\n",
      "False\n"
     ]
    },
    {
     "name": "stdin",
     "output_type": "stream",
     "text": [
      "Enter your monthly salary:  16000\n",
      "Enter your monthly benefits:  2000\n"
     ]
    },
    {
     "name": "stdout",
     "output_type": "stream",
     "text": [
      "My total income is :  18000.0\n",
      "My salary without benefits is:  16000.0\n",
      "My renumeration Per Annum is:  216000.0\n"
     ]
    }
   ],
   "source": [
    "# Task 1:\n",
    "# Done\n",
    "\n",
    "# Task 2 \n",
    "myName = \"Morie\"\n",
    "myAge = 40\n",
    "myWeight = 63.2\n",
    "ImMosotho = True\n",
    "ImIndian = False\n",
    "print(\"My name is: \", myName, \"Type : \", type(myName))\n",
    "print(\"My age is: \", myAge, \"Type : \", type(myAge))\n",
    "print(\"My weight is: \", myWeight, \"Type : \", type(myWeight))\n",
    "print(\"I am Mosotho: \", ImMosotho, \"Type : \", type(ImMosotho))\n",
    "\n",
    "#Task 3\n",
    "a = 10\n",
    "b = 4\n",
    "c = 2\n",
    "d = 1.1\n",
    "e = True\n",
    "f = False\n",
    "\n",
    "print(a+d)\n",
    "print(a-d)\n",
    "print(a*b)\n",
    "print(a/c)\n",
    "print(a//b)\n",
    "print(a%b)\n",
    "\n",
    "#Task 4\n",
    "print(a == b)\n",
    "print(a != b)\n",
    "print(a > b)\n",
    "print(a < b)\n",
    "print(a >= b)\n",
    "print(a <= b)\n",
    "print(e and f)\n",
    "print(e or f)\n",
    "print(not e)\n",
    "\n",
    "#Task 5\n",
    "salary = float(input(\"Enter your monthly salary: \"))\n",
    "benefits = float(input(\"Enter your monthly benefits: \"))\n",
    "months = 12\n",
    "\n",
    "# basic calculations\n",
    "totalReneumeration = salary + benefits\n",
    "salaryOnly = totalReneumeration - benefits\n",
    "renumerationPerAnnum =  totalReneumeration*months\n",
    "print(\"My total income is : \", totalReneumeration)\n",
    "print(\"My salary without benefits is: \", salaryOnly)\n",
    "print(\"My renumeration Per Annum is: \", renumerationPerAnnum)\n"
   ]
  },
  {
   "cell_type": "code",
   "execution_count": null,
   "id": "26897555-2fe9-4185-8acc-80078d8fe379",
   "metadata": {},
   "outputs": [],
   "source": []
  }
 ],
 "metadata": {
  "kernelspec": {
   "display_name": "Python 3 (ipykernel)",
   "language": "python",
   "name": "python3"
  },
  "language_info": {
   "codemirror_mode": {
    "name": "ipython",
    "version": 3
   },
   "file_extension": ".py",
   "mimetype": "text/x-python",
   "name": "python",
   "nbconvert_exporter": "python",
   "pygments_lexer": "ipython3",
   "version": "3.12.4"
  }
 },
 "nbformat": 4,
 "nbformat_minor": 5
}
