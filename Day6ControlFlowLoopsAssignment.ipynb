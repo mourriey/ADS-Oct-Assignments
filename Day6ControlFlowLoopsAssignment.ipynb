{
 "cells": [
  {
   "cell_type": "markdown",
   "id": "de0c0e51-7841-43ef-a00e-63b9331ecf78",
   "metadata": {},
   "source": [
    "# Day6ControlFlowLoopsAssignment"
   ]
  },
  {
   "cell_type": "markdown",
   "id": "d44b3cc9-5ec8-42d4-a7d2-c655605c4ee4",
   "metadata": {},
   "source": [
    "Task 1: Sript created"
   ]
  },
  {
   "cell_type": "markdown",
   "id": "64f81182-82a8-4787-9d2e-0686d18bcf05",
   "metadata": {},
   "source": [
    "_________________________________________________________________________________________________________"
   ]
  },
  {
   "cell_type": "markdown",
   "id": "ba14f3de-5f00-4ae1-9c6d-39e8f6fe3196",
   "metadata": {},
   "source": [
    "Task 2: "
   ]
  },
  {
   "cell_type": "code",
   "execution_count": 5,
   "id": "7e40bad7-21ed-40dc-87ab-abbc5f601eca",
   "metadata": {},
   "outputs": [
    {
     "name": "stdin",
     "output_type": "stream",
     "text": [
      "Enter temperature reading:  33\n"
     ]
    },
    {
     "name": "stdout",
     "output_type": "stream",
     "text": [
      "the temperature is above the freezing point, 0 degrees\n"
     ]
    }
   ],
   "source": [
    "temperature = int(input(\"Enter temperature reading: \"))\n",
    "if temperature > 0:\n",
    "    print(\"the temperature is above the freezing point, 0 degrees\")\n",
    "elif temperature < 0:\n",
    "    print(\"the temperature is below the freezing point, 0 degrees\")\n",
    "else:\n",
    "    print(\"temperature is at 0 degrees\")"
   ]
  },
  {
   "cell_type": "markdown",
   "id": "7cbf191e-e65e-4120-b169-19ef2ed2cd0a",
   "metadata": {},
   "source": [
    "_____________________________________________________________________"
   ]
  },
  {
   "cell_type": "markdown",
   "id": "60f4dd5b-690c-4e80-8d99-35f6bb7e7b0b",
   "metadata": {},
   "source": [
    "Task 3: "
   ]
  },
  {
   "cell_type": "code",
   "execution_count": 32,
   "id": "7aa9e0a8-3b25-4e3f-910f-f3555f84bb3c",
   "metadata": {},
   "outputs": [
    {
     "name": "stdout",
     "output_type": "stream",
     "text": [
      "1 1\n",
      "2 4\n",
      "3 9\n",
      "4 16\n",
      "5 25\n",
      "6 36\n",
      "7 49\n",
      "8 64\n",
      "9 81\n",
      "10 100\n"
     ]
    }
   ],
   "source": [
    "for i in range(1,11):\n",
    "    print(i, i**2)"
   ]
  },
  {
   "cell_type": "code",
   "execution_count": 29,
   "id": "d165ea00-2072-43a5-9fb5-c91906d8c180",
   "metadata": {},
   "outputs": [],
   "source": [
    "#Task 4:"
   ]
  },
  {
   "cell_type": "code",
   "execution_count": 52,
   "id": "f5f5b497-696c-45d8-98ac-a68a6b8bc08e",
   "metadata": {},
   "outputs": [
    {
     "name": "stdin",
     "output_type": "stream",
     "text": [
      "Please enter your a  positive whole number:  5\n"
     ]
    },
    {
     "name": "stdout",
     "output_type": "stream",
     "text": [
      "5 !  =  120\n"
     ]
    }
   ],
   "source": [
    "num = int(input(\"Please enter your a  positive whole number: \"))\n",
    "factorial = 1\n",
    "increment = 1\n",
    "while increment <= num:\n",
    "    factorial = factorial*increment\n",
    "    increment = increment+1\n",
    "print(num, \"!  = \", factorial)"
   ]
  },
  {
   "cell_type": "code",
   "execution_count": 46,
   "id": "be3e6a4d-d507-483a-adcc-6543509aed39",
   "metadata": {},
   "outputs": [],
   "source": [
    "#Task 5: "
   ]
  },
  {
   "cell_type": "code",
   "execution_count": 48,
   "id": "d6a57be0-a884-40e3-8c22-dd548b3a9de2",
   "metadata": {},
   "outputs": [
    {
     "name": "stdout",
     "output_type": "stream",
     "text": [
      "1\n",
      "3\n",
      "5\n",
      "7\n",
      "9\n",
      "11\n",
      "13\n"
     ]
    }
   ],
   "source": [
    "for i in range(1,21):\n",
    "    if i >= 15:\n",
    "        break\n",
    "    if i%2 == 0:\n",
    "        continue\n",
    "    print(i)"
   ]
  },
  {
   "cell_type": "code",
   "execution_count": null,
   "id": "655e4607-4615-4773-ab34-8198e23d4641",
   "metadata": {},
   "outputs": [],
   "source": []
  }
 ],
 "metadata": {
  "kernelspec": {
   "display_name": "Python 3 (ipykernel)",
   "language": "python",
   "name": "python3"
  },
  "language_info": {
   "codemirror_mode": {
    "name": "ipython",
    "version": 3
   },
   "file_extension": ".py",
   "mimetype": "text/x-python",
   "name": "python",
   "nbconvert_exporter": "python",
   "pygments_lexer": "ipython3",
   "version": "3.12.4"
  }
 },
 "nbformat": 4,
 "nbformat_minor": 5
}
