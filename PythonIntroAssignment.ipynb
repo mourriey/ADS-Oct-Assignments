{
 "cells": [
  {
   "cell_type": "code",
   "execution_count": null,
   "id": "6219080c-50e1-4352-b760-70045102bfb9",
   "metadata": {},
   "outputs": [],
   "source": [
    "# Task 1 Create a new Python Repl:\n",
    "# notebook created in jupyter notebook and named PythonIntroAssignment"
   ]
  },
  {
   "cell_type": "code",
   "execution_count": null,
   "id": "9f409774-cade-4b2e-8ef4-ae4f6c5caeec",
   "metadata": {},
   "outputs": [],
   "source": [
    "# Task 2 Familiarize yourself with Python syntax:"
   ]
  },
  {
   "cell_type": "code",
   "execution_count": 2,
   "id": "73b7fdb6-7800-46a1-9d94-537eb21d49c4",
   "metadata": {},
   "outputs": [
    {
     "name": "stdout",
     "output_type": "stream",
     "text": [
      "Hello, World!\n"
     ]
    }
   ],
   "source": [
    "print('Hello, World!')"
   ]
  },
  {
   "cell_type": "code",
   "execution_count": 4,
   "id": "6db3e9b1-cd64-4c1c-b1ef-07956ca2cdba",
   "metadata": {},
   "outputs": [
    {
     "name": "stdout",
     "output_type": "stream",
     "text": [
      "The sum of 5 and 3 is 8\n"
     ]
    }
   ],
   "source": [
    "num1 = 5\n",
    "num2 = 3\n",
    "sum = num1 + num2\n",
    "print('The sum of', num1, 'and', num2, 'is', sum)"
   ]
  },
  {
   "cell_type": "code",
   "execution_count": null,
   "id": "6d7f57d2-25eb-49a0-9eda-a24aab97f729",
   "metadata": {},
   "outputs": [],
   "source": [
    "# Task 3 Write a Python script that prompts the user for their name and greets them:"
   ]
  },
  {
   "cell_type": "code",
   "execution_count": 6,
   "id": "2b0a409b-2035-444f-82af-ca13b75f61e3",
   "metadata": {},
   "outputs": [
    {
     "name": "stdin",
     "output_type": "stream",
     "text": [
      "Please enter your name:  Mapoulo\n"
     ]
    },
    {
     "name": "stdout",
     "output_type": "stream",
     "text": [
      "Hello, Mapoulo! Welcome to python programming.\n"
     ]
    }
   ],
   "source": [
    "name = input('Please enter your name: ')\n",
    "print('Hello, '+ name + '! Welcome to python programming.')"
   ]
  },
  {
   "cell_type": "code",
   "execution_count": null,
   "id": "10b5b93b-5008-4b38-a29e-cb7b3da74a3d",
   "metadata": {},
   "outputs": [],
   "source": [
    "# Task 4 Write a Python script that prompts the user for two numbers and prints their sum:"
   ]
  },
  {
   "cell_type": "code",
   "execution_count": 18,
   "id": "395a92e4-5e91-45fb-b23d-d514da53fb62",
   "metadata": {},
   "outputs": [
    {
     "name": "stdin",
     "output_type": "stream",
     "text": [
      "Please enter your salary amount:  12000\n",
      "Please enter your stipend amount:  1893\n"
     ]
    },
    {
     "name": "stdout",
     "output_type": "stream",
     "text": [
      "The sum of 12000 and 1893 is 13893\n"
     ]
    }
   ],
   "source": [
    "salary = int(input('Please enter your salary amount: '))\n",
    "stipend = int(input('Please enter your stipend amount: '))\n",
    "total_income = salary+stipend\n",
    "print('The sum of', salary, 'and', stipend, 'is', total_income)"
   ]
  },
  {
   "cell_type": "code",
   "execution_count": null,
   "id": "838e21db-1e51-4c78-8b1f-d2ae8916c779",
   "metadata": {},
   "outputs": [],
   "source": []
  },
  {
   "cell_type": "code",
   "execution_count": null,
   "id": "68c710c4-2715-4a57-b188-8865b9fb78f8",
   "metadata": {},
   "outputs": [],
   "source": [
    "# Task 5 Share your Python Repl:\n",
    "# Notebook has been successfully shared"
   ]
  }
 ],
 "metadata": {
  "kernelspec": {
   "display_name": "Python 3 (ipykernel)",
   "language": "python",
   "name": "python3"
  },
  "language_info": {
   "codemirror_mode": {
    "name": "ipython",
    "version": 3
   },
   "file_extension": ".py",
   "mimetype": "text/x-python",
   "name": "python",
   "nbconvert_exporter": "python",
   "pygments_lexer": "ipython3",
   "version": "3.12.4"
  }
 },
 "nbformat": 4,
 "nbformat_minor": 5
}
