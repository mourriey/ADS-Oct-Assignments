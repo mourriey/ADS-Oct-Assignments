{
 "cells": [
  {
   "cell_type": "code",
   "execution_count": 40,
   "id": "20a0ffd2-9d35-4077-858a-1fab2ab91254",
   "metadata": {},
   "outputs": [],
   "source": [
    "# Task 1 \n",
    "#DONE"
   ]
  },
  {
   "cell_type": "code",
   "execution_count": null,
   "id": "1b673eaa-1e86-4df4-a288-ec7adc719e63",
   "metadata": {},
   "outputs": [],
   "source": [
    "# Task 2"
   ]
  },
  {
   "cell_type": "code",
   "execution_count": 42,
   "id": "24adee76-a23e-417b-9ec5-a453f52c856a",
   "metadata": {},
   "outputs": [
    {
     "name": "stdout",
     "output_type": "stream",
     "text": [
      "[5, 7, 3, 4, 1, 6, 2]\n",
      "[5, 7, 3, 4, 1, 6, 2, 8]\n",
      "[5, 7, 3, 4, 6, 2, 8]\n",
      "[2, 3, 4, 5, 6, 7, 8]\n",
      "[2, 3, 4, 5, 6, 7, 8]\n",
      "[4, 9, 16, 25, 36, 49, 64]\n"
     ]
    }
   ],
   "source": [
    "numbers = [5, 7, 3, 4, 1, 6, 2]\n",
    "print(numbers)\n",
    "numbers.append(8)\n",
    "print(numbers)\n",
    "numbers.remove(1)\n",
    "print(numbers)\n",
    "numbers.sort()\n",
    "print(numbers)\n",
    "newNumbers = [number**2 for number in numbers]\n",
    "print(numbers)\n",
    "print(newNumbers)"
   ]
  },
  {
   "cell_type": "code",
   "execution_count": null,
   "id": "a82a126f-6485-4ac7-b926-5983cdb2db14",
   "metadata": {},
   "outputs": [],
   "source": [
    "# Task 3"
   ]
  },
  {
   "cell_type": "code",
   "execution_count": 50,
   "id": "e93d1778-f0d9-49bf-8433-2bf05d13d987",
   "metadata": {},
   "outputs": [
    {
     "name": "stdout",
     "output_type": "stream",
     "text": [
      "('Lucy', 'Lucia', 'Love', 'Lonia', 'Lucy')\n",
      "Love\n",
      "('Lucy', 'Lucia', 'Love', 'Lonia', 'Lucy')\n",
      "Lucy appears  2  times.\n"
     ]
    }
   ],
   "source": [
    "participants = (\"Lucy\", \"Lucia\", \"Love\", \"Lonia\", \"Lucy\")\n",
    "print(participants)\n",
    "print(participants[2])\n",
    "howManyLucies = participants.count(\"Lucy\")\n",
    "print(participants)\n",
    "print(\"Lucy appears \", howManyLucies, \" times.\")"
   ]
  },
  {
   "cell_type": "code",
   "execution_count": null,
   "id": "2783343a-afa9-4f9e-9004-7b9e6786def7",
   "metadata": {},
   "outputs": [],
   "source": [
    "#Task 4"
   ]
  },
  {
   "cell_type": "code",
   "execution_count": 76,
   "id": "b60d5cd0-d4e9-481a-a545-2f7986bc73bf",
   "metadata": {},
   "outputs": [
    {
     "name": "stdout",
     "output_type": "stream",
     "text": [
      "{'Lucy': 20, 'Lucia': 30, 'Love': 18, 'Lonia': 29}\n",
      "{'Lucy': 20, 'Lucia': 30, 'Love': 18, 'Lonia': 29, 'Lucy2': 34}\n",
      "{'Lucy': 20, 'Lucia': 30, 'Love': 17, 'Lonia': 29, 'Lucy2': 34}\n",
      "20\n",
      "{'Lucia': 30, 'Love': 17, 'Lonia': 29, 'Lucy2': 34}\n"
     ]
    }
   ],
   "source": [
    "ages = {\"Lucy\": 20, \"Lucia\": 30, \"Love\": 18, \"Lonia\": 29}\n",
    "print(ages)\n",
    "ages[\"Lucy2\"] = 34\n",
    "print(ages)\n",
    "ages[\"Love\"] = 17\n",
    "print(ages)\n",
    "removed = ages.pop(\"Lucy\")\n",
    "print(removed)\n",
    "print(ages)"
   ]
  },
  {
   "cell_type": "code",
   "execution_count": null,
   "id": "83c7acea-2374-46dc-9468-7e413c47668e",
   "metadata": {},
   "outputs": [],
   "source": [
    "# Task 5"
   ]
  },
  {
   "cell_type": "code",
   "execution_count": 84,
   "id": "0668111f-9f8f-4e18-b682-6c41b8d62264",
   "metadata": {},
   "outputs": [
    {
     "name": "stdout",
     "output_type": "stream",
     "text": [
      "Set1 is:  {1, 70, 22, 12, 15, 62, 111}\n",
      "Set2 is:  {54, 24, 12, 77, 15}\n",
      "Intersection of set1 & set2 is:  {12, 15}\n",
      "Union of set1 & set2 is:  {1, 70, 12, 77, 15, 111, 22, 54, 24, 62}\n",
      "The difference between set1 & set2 is :  {1, 70, 111, 22, 62}\n"
     ]
    }
   ],
   "source": [
    "nums1 = {22, 1, 15, 70, 62, 111, 12}\n",
    "nums2 = {54, 12, 77, 15, 24}\n",
    "print(\"Set1 is: \", nums1)\n",
    "print(\"Set2 is: \", nums2)\n",
    "commonElements = nums1.intersection(nums2)\n",
    "print(\"Intersection of set1 & set2 is: \", commonElements)\n",
    "allNums = nums1.union(nums2)\n",
    "print(\"Union of set1 & set2 is: \", allNums)\n",
    "diff = nums1.difference(nums2)\n",
    "print(\"The difference between set1 & set2 is : \", diff)"
   ]
  },
  {
   "cell_type": "code",
   "execution_count": null,
   "id": "ce579958-f883-4ef7-a520-9bee494f2848",
   "metadata": {},
   "outputs": [],
   "source": [
    "# Task 6"
   ]
  },
  {
   "cell_type": "code",
   "execution_count": null,
   "id": "0ae3b720-54fe-4fd6-8b1b-375612080af8",
   "metadata": {},
   "outputs": [],
   "source": []
  },
  {
   "cell_type": "code",
   "execution_count": null,
   "id": "2ef2191b-7ef0-4a09-b46a-85784eac551c",
   "metadata": {},
   "outputs": [],
   "source": []
  }
 ],
 "metadata": {
  "kernelspec": {
   "display_name": "Python 3 (ipykernel)",
   "language": "python",
   "name": "python3"
  },
  "language_info": {
   "codemirror_mode": {
    "name": "ipython",
    "version": 3
   },
   "file_extension": ".py",
   "mimetype": "text/x-python",
   "name": "python",
   "nbconvert_exporter": "python",
   "pygments_lexer": "ipython3",
   "version": "3.12.4"
  }
 },
 "nbformat": 4,
 "nbformat_minor": 5
}
